{
 "cells": [
  {
   "cell_type": "code",
   "execution_count": 1,
   "id": "29ce7fbb",
   "metadata": {},
   "outputs": [],
   "source": [
    "from selenium import webdriver\n",
    "from selenium.webdriver.common.keys import Keys                      # special keyboard keys\n",
    "from selenium.webdriver.common.by import By                          # elements for select statements\n",
    "from selenium.webdriver.support.ui import WebDriverWait              # explicitly wait for element load\n",
    "from selenium.webdriver.support import expected_conditions as EC     # conditions used for wait\n",
    "from selenium.webdriver.common.action_chains import ActionChains     # actions at cursor\n",
    "\n",
    "import warnings\n",
    "warnings.filterwarnings('ignore')"
   ]
  },
  {
   "cell_type": "code",
   "execution_count": 2,
   "id": "db442866",
   "metadata": {},
   "outputs": [],
   "source": [
    "PATH = '/Users/jake/chromedriver' # locate chrome driver"
   ]
  },
  {
   "cell_type": "code",
   "execution_count": 3,
   "id": "62435d2e",
   "metadata": {},
   "outputs": [],
   "source": [
    "driver = webdriver.Chrome(PATH) # start up chrome\n",
    "driver.get('https://regex101.com/') # go to website\n",
    "\n",
    "# driver.close() # close tab\n",
    "# driver.quit() # quit browser\n",
    "\n",
    "# print(driver.title) # show title\n",
    "# driver.page_source # show html soup"
   ]
  },
  {
   "cell_type": "code",
   "execution_count": 4,
   "id": "9c082a63",
   "metadata": {},
   "outputs": [],
   "source": [
    "action = ActionChains(driver) # set up actions"
   ]
  },
  {
   "cell_type": "code",
   "execution_count": 5,
   "id": "5667f577",
   "metadata": {},
   "outputs": [],
   "source": [
    "action.send_keys(\"hi\").perform() # send hi at cursor location\n",
    "action.send_keys(Keys.TAB).send_keys(Keys.TAB).perform() # tab to next cell\n",
    "action.send_keys('hi, my name is hihi').perform() # send text to cursor location"
   ]
  },
  {
   "cell_type": "code",
   "execution_count": null,
   "id": "e16fa3e6",
   "metadata": {},
   "outputs": [],
   "source": []
  }
 ],
 "metadata": {
  "kernelspec": {
   "display_name": "Python 3 (ipykernel)",
   "language": "python",
   "name": "python3"
  },
  "language_info": {
   "codemirror_mode": {
    "name": "ipython",
    "version": 3
   },
   "file_extension": ".py",
   "mimetype": "text/x-python",
   "name": "python",
   "nbconvert_exporter": "python",
   "pygments_lexer": "ipython3",
   "version": "3.8.8"
  }
 },
 "nbformat": 4,
 "nbformat_minor": 5
}
