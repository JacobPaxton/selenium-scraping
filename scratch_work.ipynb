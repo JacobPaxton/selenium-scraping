{
 "cells": [
  {
   "cell_type": "markdown",
   "id": "3ed3e7d6",
   "metadata": {},
   "source": [
    "# Overview\n",
    "I'm using this notebook to learn Selenium through Google Chrome.\n",
    "\n",
    "# Making inputs on web page"
   ]
  },
  {
   "cell_type": "code",
   "execution_count": 1,
   "id": "29ce7fbb",
   "metadata": {},
   "outputs": [],
   "source": [
    "# from selenium import webdriver\n",
    "# from selenium.webdriver.common.keys import Keys                      # special keyboard keys\n",
    "# from selenium.webdriver.common.by import By                          # elements for select statements\n",
    "# from selenium.webdriver.support.ui import WebDriverWait              # explicitly wait for element load\n",
    "# from selenium.webdriver.support import expected_conditions as EC     # conditions used for wait\n",
    "# from selenium.webdriver.common.action_chains import ActionChains     # actions at cursor\n",
    "\n",
    "# import warnings\n",
    "# warnings.filterwarnings('ignore')"
   ]
  },
  {
   "cell_type": "code",
   "execution_count": 2,
   "id": "db442866",
   "metadata": {},
   "outputs": [],
   "source": [
    "# PATH = '/Users/jake/chromedriver' # locate chrome driver"
   ]
  },
  {
   "cell_type": "code",
   "execution_count": 3,
   "id": "62435d2e",
   "metadata": {},
   "outputs": [],
   "source": [
    "# driver = webdriver.Chrome(PATH) # start up chrome\n",
    "# driver.get('https://regex101.com/') # go to website\n",
    "\n",
    "# # driver.close() # close tab\n",
    "# # driver.quit() # quit browser\n",
    "\n",
    "# # print(driver.title) # show title\n",
    "# # driver.page_source # show html soup"
   ]
  },
  {
   "cell_type": "code",
   "execution_count": 4,
   "id": "9c082a63",
   "metadata": {},
   "outputs": [],
   "source": [
    "# action = ActionChains(driver) # set up actions"
   ]
  },
  {
   "cell_type": "code",
   "execution_count": 5,
   "id": "5667f577",
   "metadata": {},
   "outputs": [],
   "source": [
    "# action.send_keys(\"hi\").perform() # send hi at cursor location\n",
    "# action.send_keys(Keys.TAB).send_keys(Keys.TAB).perform() # tab to next cell\n",
    "# action.send_keys('hi, my name is hihi').perform() # send text to cursor location"
   ]
  },
  {
   "cell_type": "markdown",
   "id": "7133e332",
   "metadata": {},
   "source": [
    "# Scraping images from web page"
   ]
  },
  {
   "cell_type": "code",
   "execution_count": 6,
   "id": "e57b8e37",
   "metadata": {},
   "outputs": [],
   "source": [
    "import requests\n",
    "import shutil\n",
    "\n",
    "from bs4 import BeautifulSoup\n",
    "from selenium import webdriver\n",
    "from selenium.webdriver.common.by import By\n",
    "from selenium.webdriver.common.keys import Keys\n",
    "from selenium.webdriver.support.ui import WebDriverWait\n",
    "from selenium.webdriver.common.action_chains import ActionChains\n",
    "from selenium.webdriver.support.ui import Select\n",
    "\n",
    "from tqdm.notebook import tqdm, trange\n",
    "\n",
    "import warnings\n",
    "warnings.filterwarnings('ignore')"
   ]
  },
  {
   "cell_type": "code",
   "execution_count": 7,
   "id": "3720a52b",
   "metadata": {},
   "outputs": [],
   "source": [
    "PATH = '/Users/jake/chromedriver'\n",
    "driver = webdriver.Chrome(PATH)"
   ]
  },
  {
   "cell_type": "markdown",
   "id": "87fb4cf4",
   "metadata": {},
   "source": [
    "Search for all images and videos on Imgur that meet 'shark' criteria:"
   ]
  },
  {
   "cell_type": "code",
   "execution_count": 8,
   "id": "b482c91b",
   "metadata": {},
   "outputs": [],
   "source": [
    "# imgur_base = 'https://imgur.com/search?q='\n",
    "# imgur_query = imgur_base + 'shark'\n",
    "# driver.get(imgur_query)"
   ]
  },
  {
   "cell_type": "markdown",
   "id": "d2898add",
   "metadata": {},
   "source": [
    "Search for JPG filess only for 'shark' criteria:"
   ]
  },
  {
   "cell_type": "code",
   "execution_count": 9,
   "id": "22be80db",
   "metadata": {},
   "outputs": [],
   "source": [
    "driver.get('https://imgur.com/search?q=')"
   ]
  },
  {
   "cell_type": "code",
   "execution_count": 10,
   "id": "6ec6cb01",
   "metadata": {},
   "outputs": [],
   "source": [
    "all_of = driver.find_element_by_xpath('//*[@id=\"q_all\"]')\n",
    "all_of.send_keys('shark')"
   ]
  },
  {
   "cell_type": "code",
   "execution_count": 11,
   "id": "dfb396ff",
   "metadata": {},
   "outputs": [],
   "source": [
    "actions = ActionChains(driver)\n",
    "actions.move_to_element(driver.find_element_by_xpath('//*[@id=\"q_type\"]/div[1]')).click().perform()\n",
    "actions.move_to_element(driver.find_element_by_xpath('//*[@id=\"q_type\"]/div[3]/div[2]')).click().perform()"
   ]
  },
  {
   "cell_type": "code",
   "execution_count": 12,
   "id": "7ca8abfe",
   "metadata": {},
   "outputs": [],
   "source": [
    "clickme = driver.find_element_by_xpath('//*[@id=\"search_advanced_right\"]/div[4]/input')\n",
    "clickme.click()"
   ]
  },
  {
   "cell_type": "code",
   "execution_count": 13,
   "id": "c1818dae",
   "metadata": {},
   "outputs": [],
   "source": [
    "# driver.find_element_by_css_selector(\"body\").send_keys(\"unit test\")"
   ]
  },
  {
   "cell_type": "code",
   "execution_count": 14,
   "id": "45ef7ef2",
   "metadata": {},
   "outputs": [],
   "source": [
    "soup = BeautifulSoup(driver.page_source)\n",
    "# soup     # check html"
   ]
  },
  {
   "cell_type": "code",
   "execution_count": 15,
   "id": "2ce11c27",
   "metadata": {},
   "outputs": [],
   "source": [
    "posts = soup.find_all(attrs={'class':'pointer arrow-up icon-upvote-outline'})\n",
    "image_links = []\n",
    "for post in posts:\n",
    "    data_id = post['data']\n",
    "    image_link = f'https://i.imgur.com/{data_id}.jpeg'\n",
    "    image_links.append(image_link)\n",
    "\n",
    "filename = data_id + '.jpeg' # last data id filename for test\n",
    "image_url = image_links[-1] # last image url for test"
   ]
  },
  {
   "cell_type": "code",
   "execution_count": 16,
   "id": "a913c11b",
   "metadata": {},
   "outputs": [],
   "source": [
    "r = requests.get(image_url, stream = True) # request the image into cache\n",
    "r.raw.decode_content = True                # get file size\n",
    "with open(filename,'wb') as f:             # make a new file for image\n",
    "    shutil.copyfileobj(r.raw, f)           # save image"
   ]
  }
 ],
 "metadata": {
  "kernelspec": {
   "display_name": "Python 3 (ipykernel)",
   "language": "python",
   "name": "python3"
  },
  "language_info": {
   "codemirror_mode": {
    "name": "ipython",
    "version": 3
   },
   "file_extension": ".py",
   "mimetype": "text/x-python",
   "name": "python",
   "nbconvert_exporter": "python",
   "pygments_lexer": "ipython3",
   "version": "3.8.8"
  }
 },
 "nbformat": 4,
 "nbformat_minor": 5
}
